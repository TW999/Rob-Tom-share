{
 "cells": [
  {
   "cell_type": "code",
   "execution_count": 1,
   "source": [
    "from utils.convertdateformats import datetimeconvert"
   ],
   "outputs": [],
   "metadata": {}
  },
  {
   "cell_type": "markdown",
   "source": [
    "# Rob,\r\n",
    "\r\n",
    "I got tired of making slight variations on what was essentially the same function to convert between datetime formats, so I am building a class to do it.\r\n",
    "I have provided some examples of functionality below to halp so what it can do. Please have a play with it and let me know what you think. It's a work in progress,\r\n",
    "as I write this today I see that some things aren't working as they should!\r\n",
    "\r\n",
    "Requirements: numpy, re, datetime, pandas, time \r\n",
    "\r\n"
   ],
   "metadata": {}
  },
  {
   "cell_type": "code",
   "execution_count": 6,
   "source": [
    "# Change arguments passed to dtconvert. Acceptable arguments and how to access them are shown in the cells below.\r\n",
    "\r\n",
    "def dtconvert(x):\r\n",
    "    strformat = 'yyyy-mm-dd' # 'yyyy-mm-dd hh:nn:ss' \r\n",
    "    informat = 'str'\r\n",
    "    outformat = 'datetime.datetime' \r\n",
    "    y = datetimeconvert(x,informat,outformat,strformat)\r\n",
    "    return(y.convertdtformat()) \r\n",
    "\r\n",
    "\r\n",
    "strdate = '2013-09-04'\r\n",
    "\r\n",
    "outdate = dtconvert(strdate)\r\n",
    "print(outdate, type(outdate))"
   ],
   "outputs": [
    {
     "output_type": "stream",
     "name": "stdout",
     "text": [
      "2013-09-04 00:00:00 <class 'datetime.datetime'>\n"
     ]
    }
   ],
   "metadata": {}
  },
  {
   "cell_type": "markdown",
   "source": [
    "# Get a dictionary of the formats that the datetimeconvert module can handle"
   ],
   "metadata": {}
  },
  {
   "cell_type": "code",
   "execution_count": 3,
   "source": [
    "datetimeconvert.allowableformats()"
   ],
   "outputs": [
    {
     "output_type": "execute_result",
     "data": {
      "text/plain": [
       "{'datetime.date': \"<class 'datetime.time'>\",\n",
       " 'datetime.datetime': \"<class 'datetime.datetime'>\",\n",
       " 'pd.Timestamp': \"<class 'pandas._libs.tslibs.timestamps.Timestamp'>\",\n",
       " 'np.datetime64': \"<class 'numpy.datetime64'>\",\n",
       " 'str': \"<class 'str'>\"}"
      ]
     },
     "metadata": {},
     "execution_count": 3
    }
   ],
   "metadata": {}
  },
  {
   "cell_type": "markdown",
   "source": [
    "# If the input is a str, see what string formats are acceptable"
   ],
   "metadata": {}
  },
  {
   "cell_type": "code",
   "execution_count": 5,
   "source": [
    "datetimeconvert.allowablestrformats()"
   ],
   "outputs": [
    {
     "output_type": "execute_result",
     "data": {
      "text/plain": [
       "{'year': ['yyyy', 'yy'],\n",
       " 'month': ['mm', 'm', 'MMM', 'Mmm', 'monthname'],\n",
       " 'day': ['dd', 'd'],\n",
       " 'hour': ['hh', 'h'],\n",
       " 'minute': ['nn', 'n'],\n",
       " 'second': ['ss', 's', 'ss.ss']}"
      ]
     },
     "metadata": {},
     "execution_count": 5
    }
   ],
   "metadata": {}
  },
  {
   "cell_type": "markdown",
   "source": [
    "# Check if the str delimiters are acceptable"
   ],
   "metadata": {}
  },
  {
   "cell_type": "code",
   "execution_count": 11,
   "source": [
    "strformat = 'yyyy-mm-dd' # 'yyyy-mm-dd hh:nn:ss' \r\n",
    "informat = 'str'\r\n",
    "outformat = 'datetime.datetime' \r\n",
    "\r\n",
    "\r\n",
    "x = datetimeconvert('19-March-07;02:13',informat,outformat,strformat)\r\n",
    "y = datetimeconvert('19-March-07.02:13',informat,outformat,strformat)\r\n",
    "\r\n",
    "print(x.checkdelims())\r\n",
    "print(y.checkdelims()) # Need to fix, should fail"
   ],
   "outputs": [
    {
     "output_type": "stream",
     "name": "stdout",
     "text": [
      "All delimiters are valid\n",
      "All delimiters are valid\n"
     ]
    }
   ],
   "metadata": {}
  }
 ],
 "metadata": {
  "orig_nbformat": 4,
  "language_info": {
   "name": "python",
   "version": "3.8.8",
   "mimetype": "text/x-python",
   "codemirror_mode": {
    "name": "ipython",
    "version": 3
   },
   "pygments_lexer": "ipython3",
   "nbconvert_exporter": "python",
   "file_extension": ".py"
  },
  "kernelspec": {
   "name": "python3",
   "display_name": "Python 3.8.8 64-bit ('test2_pyemu': conda)"
  },
  "interpreter": {
   "hash": "fcb7522490ab73746af4b88f417537c2339a94fc723e0397a826c61b6bfb7174"
  }
 },
 "nbformat": 4,
 "nbformat_minor": 2
}